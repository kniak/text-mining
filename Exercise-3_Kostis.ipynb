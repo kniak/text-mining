{
 "cells": [
  {
   "cell_type": "markdown",
   "metadata": {},
   "source": [
    "<left>\n",
    "    <h2> Text Mining  </h2>\n",
    "    <h3> Exercise 3 </h3>\n",
    "    <h4> Professor: Nandan </h4>\n",
    "    <h4> Author: Kostis </h4>\n",
    "</center>"
   ]
  },
  {
   "cell_type": "code",
   "execution_count": 217,
   "metadata": {
    "autoscroll": false,
    "ein.hycell": false,
    "ein.tags": "worksheet-0",
    "slideshow": {
     "slide_type": "-"
    }
   },
   "outputs": [],
   "source": [
    "'''Libraries'''\n",
    "import pandas as pd\n",
    "\n",
    "import seaborn as sns\n",
    "\n",
    "import regex as re\n",
    "\n",
    "from functools import reduce\n",
    "\n",
    "import multiprocessing\n",
    "\n",
    "from bs4 import BeautifulSoup\n",
    "\n",
    "import spacy\n",
    "\n",
    "from gensim.models import Word2Vec\n",
    "\n",
    "from sklearn.feature_extraction.text import CountVectorizer, TfidfVectorizer\n",
    "from sklearn.decomposition import TruncatedSVD\n",
    "from sklearn.metrics import accuracy_score\n",
    "from sklearn.linear_model import LogisticRegression\n",
    "\n",
    "from scipy.spatial.distance import pdist,squareform\n",
    "\n",
    "import warnings\n",
    "warnings.filterwarnings(\"ignore\")"
   ]
  },
  {
   "cell_type": "code",
   "execution_count": 298,
   "metadata": {},
   "outputs": [],
   "source": [
    "'''Datasets'''\n",
    "# Yelp\n",
    "yelps = pd.read_csv('sentiment/yelps.csv').sample(frac=1).reset_index(drop=True)\n",
    "\n",
    "# Tweeter\n",
    "with open('tweets/tweets.txt') as f:\n",
    "    tweets = pd.Series(f.readlines())"
   ]
  },
  {
   "cell_type": "markdown",
   "metadata": {},
   "source": [
    "### Yelp"
   ]
  },
  {
   "cell_type": "code",
   "execution_count": 197,
   "metadata": {
    "autoscroll": false,
    "ein.hycell": false,
    "ein.tags": "worksheet-0",
    "slideshow": {
     "slide_type": "-"
    }
   },
   "outputs": [],
   "source": [
    "'''Clean and tokenize'''\n",
    "\n",
    "def clean_yelp(s):\n",
    "    s = BeautifulSoup(s, 'html5lib').get_text()\n",
    "    s = ' '.join(s.split())\n",
    "    s = s.strip().lower()\n",
    "    return s\n",
    "\n",
    "def tokenize(s):\n",
    "    \"\"\" Returns a list of strings (tokens) from the document \"\"\"\n",
    "    # define and compile pattern, then return expressions that match pattern\n",
    "    token_pattern = re.compile(r\"(?u)\\b\\w\\w+\\b\")\n",
    "    return token_pattern.findall(s)\n",
    "    \n",
    "    # Implement this function!\n",
    "    # Hint: If you look at the sklearn source code on github, \n",
    "    # you will find a good regular expression they use as a default\n",
    "    # tokenizer in CountVectorizer -- this is the tokenizer\n",
    "    # we have been using until now!\n",
    "    # But you need to implement your own now. "
   ]
  },
  {
   "cell_type": "code",
   "execution_count": 198,
   "metadata": {
    "autoscroll": false,
    "ein.hycell": false,
    "ein.tags": "worksheet-0",
    "slideshow": {
     "slide_type": "-"
    }
   },
   "outputs": [],
   "source": [
    "# Create a count vectorizer, using the preprocessor and tokenizer from above\n",
    "# use TruncatedSVD from Sklearn to generate a term embedding matrix for your data\n",
    "# that is 100 dimensional in size.\n",
    "# Embed your documents via that term embedding matrix (this is just the PCA of the \n",
    "# TF matrix, as returned by \"transform\" on TruncatedSVD\n",
    "\n",
    "# Here you should have TWO vector representations of your Yelp data: \n",
    "# 1. The original TF matrix\n",
    "# 2. The first 100 components of the PCA of that matrix, as performed by TruncatedSVD"
   ]
  },
  {
   "cell_type": "markdown",
   "metadata": {},
   "source": [
    "#### Vector Representations"
   ]
  },
  {
   "cell_type": "code",
   "execution_count": 299,
   "metadata": {},
   "outputs": [],
   "source": [
    "'''TF Representation'''\n",
    "TF = CountVectorizer(preprocessor= clean_yelp, tokenizer=tokenize)\n",
    "V_TF = TF.fit_transform(yelps.text)"
   ]
  },
  {
   "cell_type": "code",
   "execution_count": 300,
   "metadata": {},
   "outputs": [],
   "source": [
    "'''PCA (100 components)'''\n",
    "SVD = TruncatedSVD(n_components=100)\n",
    "V_SVD = SVD.fit_transform(V_TF)"
   ]
  },
  {
   "cell_type": "code",
   "execution_count": 301,
   "metadata": {},
   "outputs": [],
   "source": [
    "'''w2v'''\n",
    "# use the embed_w2v function to embed your Yelp reviews using the new\n",
    "# word2vec word embeddings. Each review will be a normalized sum of the\n",
    "# words that it is made of. \n",
    "# See how this improves the scores in the classification task using\n",
    "# test_holdout_vectors -- is word2vec better? At what training-set sizes does it help\n",
    "# more? \n",
    "cores = multiprocessing.cpu_count()\n",
    "sentences = pd.Series([])\n",
    "for val in yelps.text:\n",
    "    sentences =sentences.append(pd.Series([tokenize(clean_yelp(val))]))\n",
    "\n",
    "w2v = Word2Vec(size=150, window=2, alpha=0.02, \n",
    "               min_alpha=0.0006, workers= cores-1)\n",
    "\n",
    "w2v.build_vocab(sentences)\n",
    "w2v.train(sentences, total_examples=w2v.corpus_count, epochs=30)\n",
    "\n",
    "def embed_w2v(tokens, w2v):\n",
    "    idxs = [w2v.wv.vocab.get(t) for t in tokens]\n",
    "    idxs = [t.index for t in idxs if t]\n",
    "    N = w2v.wv.vectors.shape[1]\n",
    "    if len(idxs) < 1:\n",
    "        return np.zeros(N)\n",
    "    a = np.sum(w2v.wv.vectors[idxs, :], axis=0)\n",
    "    a /= np.linalg.norm(a)\n",
    "    return a"
   ]
  },
  {
   "cell_type": "code",
   "execution_count": 302,
   "metadata": {
    "autoscroll": false,
    "ein.hycell": false,
    "ein.tags": "worksheet-0",
    "slideshow": {
     "slide_type": "-"
    }
   },
   "outputs": [],
   "source": [
    "'''Test different vector Representations'''\n",
    "# Test your vector representations using the above function, test_holdout_vectors. \n",
    "# for several levels of \"cutoff\". \n",
    "\n",
    "# This function simulates training on a small part of your data and testing on the rest.\n",
    "# Thus, it's as though you have some labelled data but a bunch of unlabelled data. \n",
    "# This is essentially a semi-supervised situation. \n",
    "\n",
    "# Do the word embeddings generated via SVD allow you to pull information from the \n",
    "# unlabeled data and improve your score given a small training set? \n",
    "\n",
    "def test_holdout_vectors(V, y, cutoff):\n",
    "    model = LogisticRegression()\n",
    "    model.fit(V[:cutoff], y[:cutoff])\n",
    "    preds = model.predict(V[cutoff:])\n",
    "    return accuracy_score(preds, y[cutoff:])"
   ]
  },
  {
   "cell_type": "code",
   "execution_count": 303,
   "metadata": {
    "autoscroll": false,
    "ein.hycell": false,
    "ein.tags": "worksheet-0",
    "slideshow": {
     "slide_type": "-"
    }
   },
   "outputs": [
    {
     "name": "stdout",
     "output_type": "stream",
     "text": [
      "Cut: 20 - Accuracy: 0.6930786157231447\n",
      "Cut: 40 - Accuracy: 0.6954481792717087\n",
      "Cut: 60 - Accuracy: 0.7229337602561537\n",
      "Cut: 80 - Accuracy: 0.7621897518014411\n",
      "Cut: 100 - Accuracy: 0.7862962962962963\n"
     ]
    }
   ],
   "source": [
    "'''Test SVD - 5 cuts'''\n",
    "i = 20\n",
    "while i <= V_SVD.shape[1]:\n",
    "    print(\"Cut:\", i, \"- Accuracy:\",test_holdout_vectors(V_SVD, yelps.positive, i))\n",
    "    i += 20"
   ]
  },
  {
   "cell_type": "code",
   "execution_count": 304,
   "metadata": {},
   "outputs": [
    {
     "name": "stdout",
     "output_type": "stream",
     "text": [
      "Cut: 20 - Accuracy: 0.67625525105021\n",
      "Cut: 40 - Accuracy: 0.7092937174869948\n",
      "Cut: 60 - Accuracy: 0.7374524714828897\n",
      "Cut: 80 - Accuracy: 0.7748498799039232\n",
      "Cut: 100 - Accuracy: 0.8050850850850851\n"
     ]
    }
   ],
   "source": [
    "'''Test TF - 5 same cuts as SVD'''\n",
    "i = 20\n",
    "while i <= V_SVD.shape[1]:\n",
    "    print(\"Cut:\", i, \"- Accuracy:\", test_holdout_vectors(V_TF, yelps.positive, i))\n",
    "    i += 20"
   ]
  },
  {
   "cell_type": "code",
   "execution_count": 305,
   "metadata": {},
   "outputs": [
    {
     "name": "stdout",
     "output_type": "stream",
     "text": [
      "Cut: 15674 - Accuracy: 0.9521974242819534\n",
      "Cut: 31348 - Accuracy: 0.9564470080988172\n",
      "Cut: 47022 - Accuracy: 0.9592283589414474\n",
      "Cut: 62696 - Accuracy: 0.9606476517263565\n",
      "Cut: 78370 - Accuracy: 0.9601941747572815\n"
     ]
    }
   ],
   "source": [
    "'''Test TF - 5 cuts'''\n",
    "i = 15674\n",
    "while i <= V_TF.shape[1]:\n",
    "    print(\"Cut:\", i, \"- Accuracy:\",test_holdout_vectors(V_TF, yelps.positive, i))\n",
    "    i += 15674"
   ]
  },
  {
   "cell_type": "code",
   "execution_count": 306,
   "metadata": {
    "scrolled": true
   },
   "outputs": [
    {
     "name": "stdout",
     "output_type": "stream",
     "text": [
      "Cut: 15674 - Accuracy: 0.9424258235894031\n",
      "Cut: 31348 - Accuracy: 0.9463963176600827\n",
      "Cut: 47022 - Accuracy: 0.9482426667673374\n",
      "Cut: 62696 - Accuracy: 0.9487990564014583\n",
      "Cut: 78370 - Accuracy: 0.946925566343042\n"
     ]
    }
   ],
   "source": [
    "'''Test w2v - 5 same cuts as TF'''\n",
    "i = 15674\n",
    "while i <= V_TF.shape[1]:\n",
    "    print(\"Cut:\", i, \"- Accuracy:\",test_holdout_vectors(np.array([embed_w2v(t, w2v) for t in sentences]), yelps.positive, i))\n",
    "    i += 15674"
   ]
  },
  {
   "cell_type": "markdown",
   "metadata": {},
   "source": [
    "__Coment:__ As expected, we get better accuracy when we use the whole feature space (TF 5 same cuts as SVD vs. TF 5 cuts whole space). For the cuts that we defined for SVD, SVD performs better than FT (SVD 5 cuts vs TF 5 same cuts as SVD). Last, for the whole sample, TF works slightly better than w2v."
   ]
  },
  {
   "cell_type": "markdown",
   "metadata": {},
   "source": [
    "### Tweeter"
   ]
  },
  {
   "cell_type": "code",
   "execution_count": 243,
   "metadata": {
    "autoscroll": false,
    "ein.hycell": false,
    "ein.tags": "worksheet-0",
    "slideshow": {
     "slide_type": "-"
    }
   },
   "outputs": [],
   "source": [
    "# TODO: Use regular expressions to remove unwanted\n",
    "# text and clean up our tweets to be more usable!\n",
    "\n",
    "# BONUS: Try using the library \"spacy\" to \n",
    "# do further processing, such as lemmatizing\n",
    "# or replacing Named Entities with constants (i.e. \"[NAMED]\")\n",
    "# or adding the part of speech or dependency code to the word \n",
    "\n",
    "nlp = spacy.load(\"en\")\n",
    "pats = [re.compile(r'https?:\\/\\/[^\\s]+'), \n",
    "        re.compile(r'rt\\s*@\\w+\\s?:?'),\n",
    "        re.compile(r'@\\w+')]\n",
    "\n",
    "def clean_twitter(s):\n",
    "    \"\"\" Cleans Twitter specific issues\n",
    "    \n",
    "    Should probably clean out mentions, URLs, and RT's.\n",
    "    \"\"\"       \n",
    "    # Remove Emojis\n",
    "    emoji_pattern = re.compile(\"[\"\n",
    "        u\"\\U0001F600-\\U0001F64F\"  # emoticons\n",
    "        u\"\\U0001F300-\\U0001F5FF\"  # symbols & pictographs\n",
    "        u\"\\U0001F680-\\U0001F6FF\"  # transport & map symbols\n",
    "        u\"\\U0001F1E0-\\U0001F1FF\"  # flags (iOS)\n",
    "                           \"]+\", flags=re.UNICODE)\n",
    "    s = emoji_pattern.sub(r'', str(s)) # no emoji\n",
    "    \n",
    "    s = re.sub(\"RT*\",\"\", str(s)) # Remove Retweets RT\n",
    "    s = re.sub(\"@\\S*\",\"\", str(s)) # Remove users and mentions\n",
    "    s = re.sub(\"http\\S*\",\"\", str(s)) # Remove links\n",
    "    s = re.sub('[#-:;,.?\\'\"\"!\\s]',' ', str(s)) # remove special caracters\n",
    "    \n",
    "    doc = nlp(s) # using spacy\n",
    "    s = ' '.join([token.lemma_ for token in doc]) #lemmatizing\n",
    "    \n",
    "    s = s.lower() # lower case\n",
    "    \n",
    "    _sub = lambda s,pat: re.sub(pat, '', s)\n",
    "    s = reduce(_sub, pats, s)\n",
    "    s = ' '.join(s.split()).strip()\n",
    "    return s"
   ]
  },
  {
   "cell_type": "code",
   "execution_count": 245,
   "metadata": {},
   "outputs": [],
   "source": [
    "'''Sample of 10000 tweets'''\n",
    "tweets_sample = tweets.sample(10000)"
   ]
  },
  {
   "cell_type": "code",
   "execution_count": 246,
   "metadata": {
    "autoscroll": false,
    "ein.hycell": false,
    "ein.tags": "worksheet-0",
    "slideshow": {
     "slide_type": "-"
    }
   },
   "outputs": [],
   "source": [
    "# Now embed this twitter data, again using Word2Vec and LSA (SVD)\n",
    "# you don't have any labels, but you might be able to \n",
    "# find some interesting phenomena. \n",
    "\n",
    "# Explore using either or both of the following tools: \n",
    "# 1. Word2Vec has a built in feature for getting most similar\n",
    "# words, including via positive/negative examples (subtraction)\n",
    "# What happens when you subtract \"hillary\" from \"trump\"? \n",
    "# \n",
    "# Bonus: build a similar feature for your LSA features and\n",
    "# see if you can do similar vector math\n",
    "\n",
    "# 2. Use the visualize_dist function to see how\n",
    "# the tweet-tweet distance looks for a selection\n",
    "# of random tweets. Do you agree with the distance? \n",
    "# Does one embedding seem better than another? \n",
    "\n",
    "# TF Representation\n",
    "TF_tweet = CountVectorizer(preprocessor = clean_twitter)\n",
    "V_TF_tweet = TF_tweet.fit_transform(tweets_sample)"
   ]
  },
  {
   "cell_type": "code",
   "execution_count": 247,
   "metadata": {},
   "outputs": [],
   "source": [
    "# PCA (100 components)\n",
    "SVD_tweet = TruncatedSVD(n_components=100)\n",
    "V_SVD_tweet = SVD_tweet.fit_transform(V_TF_tweet)"
   ]
  },
  {
   "cell_type": "code",
   "execution_count": 248,
   "metadata": {},
   "outputs": [],
   "source": [
    "# w2v\n",
    "sentences_tweet = [clean_twitter(val).split(' ') for val in tweets_sample]\n",
    "w2v = Word2Vec(sentences_tweet, workers=5)\n",
    "w2v_tweet = np.array([embed_w2v(val, w2v) for val in sentences_tweet])"
   ]
  },
  {
   "cell_type": "code",
   "execution_count": 251,
   "metadata": {},
   "outputs": [
    {
     "data": {
      "text/plain": [
       "[('feel', 0.9972110986709595),\n",
       " ('in', 0.9971967339515686),\n",
       " ('year', 0.9971141815185547),\n",
       " ('up', 0.9968377351760864),\n",
       " ('help', 0.9967727661132812),\n",
       " ('at', 0.9967682361602783),\n",
       " ('try', 0.9967376589775085),\n",
       " ('ready', 0.996721088886261),\n",
       " ('of', 0.9967142343521118),\n",
       " ('with', 0.9966156482696533)]"
      ]
     },
     "execution_count": 251,
     "metadata": {},
     "output_type": "execute_result"
    }
   ],
   "source": [
    "'''Similarity using w2v'''\n",
    "# Trump\n",
    "w2v.wv.most_similar(\"trump\")"
   ]
  },
  {
   "cell_type": "code",
   "execution_count": 254,
   "metadata": {},
   "outputs": [
    {
     "data": {
      "text/plain": [
       "[('obama', 0.9977563619613647),\n",
       " ('let', 0.9967739582061768),\n",
       " ('call', 0.9960373044013977),\n",
       " ('clinton', 0.9957067966461182),\n",
       " ('time', 0.9950782060623169),\n",
       " ('here', 0.9948357939720154),\n",
       " ('an', 0.9946215748786926),\n",
       " ('amp', 0.9929739236831665),\n",
       " ('back', 0.9928981065750122),\n",
       " ('nothing', 0.9928711652755737)]"
      ]
     },
     "execution_count": 254,
     "metadata": {},
     "output_type": "execute_result"
    }
   ],
   "source": [
    "# Hillary\n",
    "w2v.wv.most_similar('hillary')"
   ]
  },
  {
   "cell_type": "code",
   "execution_count": 263,
   "metadata": {},
   "outputs": [
    {
     "data": {
      "text/plain": [
       "[('america', 0.30934664607048035),\n",
       " ('disgust', 0.24121180176734924),\n",
       " ('hat', 0.18912656605243683),\n",
       " ('schumerdacashutdown', 0.18794432282447815),\n",
       " ('schumershutdown', 0.18026074767112732),\n",
       " ('don', 0.17978879809379578),\n",
       " ('schumersurrender', 0.17962902784347534),\n",
       " ('schumersellout', 0.17772117257118225),\n",
       " ('do', 0.17719072103500366),\n",
       " ('if', 0.16778846085071564)]"
      ]
     },
     "execution_count": 263,
     "metadata": {},
     "output_type": "execute_result"
    }
   ],
   "source": [
    "# Trump - woman\n",
    "w2v.wv.most_similar(positive=['trump'], negative=['woman'])"
   ]
  },
  {
   "cell_type": "code",
   "execution_count": 267,
   "metadata": {
    "scrolled": false
   },
   "outputs": [
    {
     "data": {
      "text/plain": [
       "[('s', 0.6638202667236328),\n",
       " ('today', 0.6417021751403809),\n",
       " ('on', 0.5992355346679688),\n",
       " ('lesson', 0.5919530391693115),\n",
       " ('islam', 0.5508599281311035),\n",
       " ('fuckislamicextremism', 0.5450016260147095),\n",
       " ('nothinggoodcomesfromislam', 0.4895938038825989),\n",
       " ('evillosers', 0.46239739656448364),\n",
       " ('theplan', 0.44678831100463867),\n",
       " ('moslemsarentpeaceful', 0.44576582312583923)]"
      ]
     },
     "execution_count": 267,
     "metadata": {},
     "output_type": "execute_result"
    }
   ],
   "source": [
    "# Hillary - Trump\n",
    "w2v.wv.most_similar(positive=['hillary'], negative=['trump'])"
   ]
  },
  {
   "cell_type": "markdown",
   "metadata": {},
   "source": [
    "__Coment:__ We get reasonable results in most w2v featuresl. For instance, Hillary seems very related with Obama and Clinton, while if we subtract woman from Trump we get disgust.  "
   ]
  },
  {
   "cell_type": "code",
   "execution_count": 290,
   "metadata": {
    "autoscroll": false,
    "ein.hycell": false,
    "ein.tags": "worksheet-0",
    "slideshow": {
     "slide_type": "-"
    }
   },
   "outputs": [],
   "source": [
    "def visualize_dist(V, tweets, idxs):\n",
    "    \"\"\" Visualize distances in heatmap\n",
    "\n",
    "    V is the vector of embeddings \n",
    "    tweets is a list or series that converts from idx to tweet\n",
    "    idxs is a list of integers that you would like to compare (<= 5 probably)\n",
    "    \"\"\"\n",
    "    m = squareform(pdist(V[idxs], 'cosine'))\n",
    "    _ = sns.heatmap(pd.DataFrame(m, columns = tweets[idxs], index= tweets[idxs]),xticklabels=False, cmap='Blues')"
   ]
  },
  {
   "cell_type": "code",
   "execution_count": 296,
   "metadata": {},
   "outputs": [
    {
     "data": {
      "image/png": "[encoded data removed]",
      "text/plain": [
       "<Figure size 432x288 with 2 Axes>"
      ]
     },
     "metadata": {},
     "output_type": "display_data"
    }
   ],
   "source": [
    "# SVD Visualization\n",
    "idxs = np.random.randint(len(tweets_sample), size=5)\n",
    "visualize_dist(V_SVD_tweet, tweets, idxs)"
   ]
  },
  {
   "cell_type": "code",
   "execution_count": 297,
   "metadata": {},
   "outputs": [
    {
     "data": {
      "image/png": "[encoded data removed]",
      "text/plain": [
       "<Figure size 432x288 with 2 Axes>"
      ]
     },
     "metadata": {},
     "output_type": "display_data"
    }
   ],
   "source": [
    "# w2v Visualization\n",
    "visualize_dist(w2v_tweet, tweets, idxs)"
   ]
  },
  {
   "cell_type": "markdown",
   "metadata": {},
   "source": [
    "__Comment__: Visualization for SVD and w2v produces similar results, as happened with the yelp data."
   ]
  }
 ],
 "metadata": {
  "kernelspec": {
   "display_name": "Python 3",
   "language": "python",
   "name": "python3"
  },
  "language_info": {
   "codemirror_mode": {
    "name": "ipython",
    "version": 3
   },
   "file_extension": ".py",
   "mimetype": "text/x-python",
   "name": "python",
   "nbconvert_exporter": "python",
   "pygments_lexer": "ipython3",
   "version": "3.6.5"
  },
  "name": "exercise-3.ipynb"
 },
 "nbformat": 4,
 "nbformat_minor": 2
}
